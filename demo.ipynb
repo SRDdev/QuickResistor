{
 "cells": [
  {
   "cell_type": "code",
   "execution_count": 1,
   "metadata": {},
   "outputs": [],
   "source": [
    "import cv2\n",
    "import numpy as np\n",
    "\n",
    "# Load the image\n",
    "img = cv2.imread('data/res.png')\n",
    "\n",
    "# Convert the image to grayscale\n",
    "gray = cv2.cvtColor(img, cv2.COLOR_BGR2GRAY)\n",
    "\n",
    "# Apply Gaussian blur to smooth the image and reduce noise\n",
    "blur = cv2.GaussianBlur(gray, (5, 5), 0)\n",
    "\n",
    "# Apply adaptive thresholding to binarize the image and isolate the edges\n",
    "thresh = cv2.adaptiveThreshold(blur, 255, cv2.ADAPTIVE_THRESH_GAUSSIAN_C, cv2.THRESH_BINARY_INV, 11, 2)\n",
    "\n",
    "# Find contours of the objects in the image\n",
    "contours, hierarchy = cv2.findContours(thresh, cv2.RETR_TREE, cv2.CHAIN_APPROX_SIMPLE)\n",
    "\n",
    "# Sort the contours by area in descending order\n",
    "contours = sorted(contours, key=cv2.contourArea, reverse=True)[:4]\n",
    "\n",
    "# Extract the color of each contour region\n",
    "colors = []\n",
    "for contour in contours:\n",
    "    mask = np.zeros_like(gray)\n",
    "    cv2.drawContours(mask, [contour], 0, 255, -1)\n",
    "    color = cv2.mean(img, mask=mask)[:3]\n",
    "    colors.append(color)\n",
    "\n",
    "color_values = {\n",
    "    'black': [(0, 0, 0), (40, 40, 40)],\n",
    "    'brown': [(101, 67, 33), (150, 75, 0)],\n",
    "    'red': [(165, 0, 0), (255, 60, 60)],\n",
    "    'orange': [(255, 97, 0), (255, 187, 51)],\n",
    "    'yellow': [(255, 255, 0), (255, 255, 153)],\n",
    "    'green': [(0, 128, 0), (102, 255, 102)],\n",
    "    'blue': [(0, 0, 128), (153, 204, 255)],\n",
    "    'violet': [(127, 0, 255), (204, 153, 255)],\n",
    "    'gray': [(128, 128, 128), (211, 211, 211)],\n",
    "    'white': [(224, 224, 224), (255, 255, 255)]\n",
    "}\n",
    "\n",
    "def get_color_name(rgb, color_values):\n",
    "    for color, (min_rgb, max_rgb) in color_values.items():\n",
    "        if min_rgb <= rgb <= max_rgb:\n",
    "            return color\n",
    "    return None\n",
    "\n",
    "color_names = []\n",
    "for i in range(len(colors)):\n",
    "    color_name = get_color_name(colors[i], color_values)\n",
    "    color_names.append(color_name)\n",
    "    # print(f\"Color band {i+1}: {color_name}\")"
   ]
  },
  {
   "cell_type": "code",
   "execution_count": 2,
   "metadata": {},
   "outputs": [
    {
     "data": {
      "text/plain": [
       "['violet', 'violet', 'red']"
      ]
     },
     "execution_count": 2,
     "metadata": {},
     "output_type": "execute_result"
    }
   ],
   "source": [
    "color_names = color_names[:3]\n",
    "color_names"
   ]
  },
  {
   "cell_type": "code",
   "execution_count": 3,
   "metadata": {},
   "outputs": [],
   "source": [
    "from calculation import detect"
   ]
  },
  {
   "cell_type": "code",
   "execution_count": 4,
   "metadata": {},
   "outputs": [
    {
     "name": "stdout",
     "output_type": "stream",
     "text": [
      "The value of Register is : 77.0 Kohms\n"
     ]
    }
   ],
   "source": [
    "detect(color_names)"
   ]
  },
  {
   "cell_type": "code",
   "execution_count": null,
   "metadata": {},
   "outputs": [],
   "source": []
  }
 ],
 "metadata": {
  "kernelspec": {
   "display_name": "Python 3",
   "language": "python",
   "name": "python3"
  },
  "language_info": {
   "codemirror_mode": {
    "name": "ipython",
    "version": 3
   },
   "file_extension": ".py",
   "mimetype": "text/x-python",
   "name": "python",
   "nbconvert_exporter": "python",
   "pygments_lexer": "ipython3",
   "version": "3.9.11"
  },
  "orig_nbformat": 4,
  "vscode": {
   "interpreter": {
    "hash": "e31aef8222fb7c235d2ed8e74ce17e973738f89b37261e7466b7a63a6dfb1214"
   }
  }
 },
 "nbformat": 4,
 "nbformat_minor": 2
}
